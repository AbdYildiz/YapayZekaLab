{
 "cells": [
  {
   "cell_type": "code",
   "execution_count": 1,
   "id": "182e53c5-6cfb-478b-82c3-1130280837f9",
   "metadata": {},
   "outputs": [
    {
     "name": "stdin",
     "output_type": "stream",
     "text": [
      "Lutfen yasinizi giriniz:  72\n"
     ]
    },
    {
     "name": "stdout",
     "output_type": "stream",
     "text": [
      "yaslidir\n"
     ]
    }
   ],
   "source": [
    "age = int(input(\"Lutfen yasinizi giriniz: \"))\n",
    "if(age < 2):\n",
    "    print(\"bebek\")\n",
    "elif(age >= 2 and age < 4):\n",
    "    print(\"yeni yurumeye baslayan cocuk\")\n",
    "elif(age >= 4 and age < 13):\n",
    "    print(\"cocuktur\")\n",
    "elif(age >= 13 and age < 20):\n",
    "    print(\"ergendir\")\n",
    "elif(age >= 20 and age < 65):\n",
    "    print(\"yetiskindir\")\n",
    "elif(age >= 65):\n",
    "    print(\"yaslidir\")\n",
    "else:\n",
    "    print(\"Lutfen gecerli bir giris yapiniz\")\n",
    "\n"
   ]
  },
  {
   "cell_type": "code",
   "execution_count": null,
   "id": "ec9f2f38-167b-4488-ba8f-30f057046a37",
   "metadata": {},
   "outputs": [],
   "source": []
  }
 ],
 "metadata": {
  "kernelspec": {
   "display_name": "Python 3 (ipykernel)",
   "language": "python",
   "name": "python3"
  },
  "language_info": {
   "codemirror_mode": {
    "name": "ipython",
    "version": 3
   },
   "file_extension": ".py",
   "mimetype": "text/x-python",
   "name": "python",
   "nbconvert_exporter": "python",
   "pygments_lexer": "ipython3",
   "version": "3.9.12"
  }
 },
 "nbformat": 4,
 "nbformat_minor": 5
}
