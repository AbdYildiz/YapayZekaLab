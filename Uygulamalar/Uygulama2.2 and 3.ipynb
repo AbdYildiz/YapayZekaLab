{
 "cells": [
  {
   "cell_type": "code",
   "execution_count": 5,
   "id": "f36960c6-781e-418c-a0aa-b2109d1335c7",
   "metadata": {},
   "outputs": [
    {
     "name": "stdin",
     "output_type": "stream",
     "text": [
      "kirmizi, yesil yada sari uzayli arasinda bir secim yapiniz cikis icin 0 giriniz:  kirmizi\n"
     ]
    },
    {
     "name": "stdout",
     "output_type": "stream",
     "text": [
      "Tebrikler, kirmizi uzayliya ates ettiginiz icin 15 puan kazandiniz\n",
      "Point:  15\n"
     ]
    },
    {
     "name": "stdin",
     "output_type": "stream",
     "text": [
      "kirmizi, yesil yada sari uzayli arasinda bir secim yapiniz cikis icin 0 giriniz:  0\n"
     ]
    }
   ],
   "source": [
    "point = 0\n",
    "while(True):\n",
    "    uzayliRengi = input(\"kirmizi, yesil yada sari uzayli arasinda bir secim yapiniz cikis icin 0 giriniz: \")\n",
    "    if(uzayliRengi == \"yesil\"):\n",
    "        point+=5\n",
    "        print(\"Tebrikler, yesil uzayliya ates ettiginiz icin 5 puan kazandiniz\")\n",
    "    elif(uzayliRengi == \"sari\"):\n",
    "        point+=10\n",
    "        print(\"Tebrikler, sari uzayliya ates ettiginiz icin 10 puan kazandiniz\")\n",
    "    elif(uzayliRengi == \"kirmizi\"):\n",
    "        point+=15\n",
    "        print(\"Tebrikler, kirmizi uzayliya ates ettiginiz icin 15 puan kazandiniz\")\n",
    "    elif(uzayliRengi == \"0\"):\n",
    "        break\n",
    "    print(\"Point: \", point)\n",
    "    "
   ]
  },
  {
   "cell_type": "code",
   "execution_count": null,
   "id": "b7dfd711-66d5-43ff-8a9a-ea9482ffb056",
   "metadata": {},
   "outputs": [],
   "source": []
  },
  {
   "cell_type": "code",
   "execution_count": null,
   "id": "4adb7e19-dae3-4806-9de8-15542915ff72",
   "metadata": {},
   "outputs": [],
   "source": []
  }
 ],
 "metadata": {
  "kernelspec": {
   "display_name": "Python 3 (ipykernel)",
   "language": "python",
   "name": "python3"
  },
  "language_info": {
   "codemirror_mode": {
    "name": "ipython",
    "version": 3
   },
   "file_extension": ".py",
   "mimetype": "text/x-python",
   "name": "python",
   "nbconvert_exporter": "python",
   "pygments_lexer": "ipython3",
   "version": "3.9.12"
  }
 },
 "nbformat": 4,
 "nbformat_minor": 5
}
