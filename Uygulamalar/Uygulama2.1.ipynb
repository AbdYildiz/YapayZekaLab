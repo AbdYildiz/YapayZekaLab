{
 "cells": [
  {
   "cell_type": "code",
   "execution_count": 3,
   "id": "4b1c55d0-9f14-496e-9611-3c6117983861",
   "metadata": {},
   "outputs": [
    {
     "name": "stdin",
     "output_type": "stream",
     "text": [
      "1.aci:  120\n",
      "2.aci:  30\n",
      "3.aci:  30\n"
     ]
    },
    {
     "name": "stdout",
     "output_type": "stream",
     "text": [
      "Genis acili ucgendir\n"
     ]
    }
   ],
   "source": [
    "num1 = int(input(\"1.aci: \"))\n",
    "num2 = int(input(\"2.aci: \"))\n",
    "num3 = int(input(\"3.aci: \"))\n",
    "\n",
    "if((num1 >= 180) or (num2 >= 180) or (num3 >= 180) or (num1 + num2 + num3) != 180 ):\n",
    "    print(\"Girdiginiz acilar bir ucgene ait olamaz\")\n",
    "elif((num1 == 90) or (num2 == 90) or (num3 == 90)):\n",
    "    print(\"Dik acili ucgendir\")\n",
    "elif((num1 >= 90) or (num2 >= 90) or (num3 >= 90)):\n",
    "    print(\"Genis acili ucgendir\")\n",
    "elif((num1 <= 90) and (num2 <= 90) and (num3 <= 90)):\n",
    "    print(\"Dar acili ucgendir\")\n",
    "else:\n",
    "    print(\"Hatali giris yaptiniz\")\n"
   ]
  },
  {
   "cell_type": "code",
   "execution_count": null,
   "id": "76decedb-8189-45cd-852a-df45325e9c36",
   "metadata": {},
   "outputs": [],
   "source": []
  },
  {
   "cell_type": "code",
   "execution_count": null,
   "id": "2ba50ea9-fe97-4aa0-b9c9-618d78900cec",
   "metadata": {},
   "outputs": [],
   "source": []
  }
 ],
 "metadata": {
  "kernelspec": {
   "display_name": "Python 3 (ipykernel)",
   "language": "python",
   "name": "python3"
  },
  "language_info": {
   "codemirror_mode": {
    "name": "ipython",
    "version": 3
   },
   "file_extension": ".py",
   "mimetype": "text/x-python",
   "name": "python",
   "nbconvert_exporter": "python",
   "pygments_lexer": "ipython3",
   "version": "3.9.12"
  }
 },
 "nbformat": 4,
 "nbformat_minor": 5
}
