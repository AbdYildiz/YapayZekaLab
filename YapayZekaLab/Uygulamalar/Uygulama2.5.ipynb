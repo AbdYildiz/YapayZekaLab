{
 "cells": [
  {
   "cell_type": "code",
   "execution_count": 3,
   "id": "e51ca7ff-fd59-4356-aca3-edab7ada5511",
   "metadata": {},
   "outputs": [
    {
     "name": "stdin",
     "output_type": "stream",
     "text": [
      "Lutfen favori meyvenizi giriniz:  kavun\n"
     ]
    },
    {
     "name": "stdout",
     "output_type": "stream",
     "text": [
      "Favori meyveniz mevcut\n"
     ]
    }
   ],
   "source": [
    "fav = input(\"Lutfen favori meyvenizi giriniz: \")\n",
    "meyveler = [\"elma\", \"armut\", \"karpuz\", \"kavun\", \"muz\"]\n",
    "\n",
    "if(fav in meyveler): \n",
    "    print(\"Favori meyveniz mevcut\")\n",
    "else:\n",
    "    print(\"Favori meyveniz mevcut degil\")"
   ]
  },
  {
   "cell_type": "code",
   "execution_count": null,
   "id": "5a200e9e-1d65-443b-bcc4-36d107ebdd40",
   "metadata": {},
   "outputs": [],
   "source": []
  }
 ],
 "metadata": {
  "kernelspec": {
   "display_name": "Python 3 (ipykernel)",
   "language": "python",
   "name": "python3"
  },
  "language_info": {
   "codemirror_mode": {
    "name": "ipython",
    "version": 3
   },
   "file_extension": ".py",
   "mimetype": "text/x-python",
   "name": "python",
   "nbconvert_exporter": "python",
   "pygments_lexer": "ipython3",
   "version": "3.9.12"
  }
 },
 "nbformat": 4,
 "nbformat_minor": 5
}
