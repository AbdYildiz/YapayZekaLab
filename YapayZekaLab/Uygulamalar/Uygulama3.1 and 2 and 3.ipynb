{
 "cells": [
  {
   "cell_type": "code",
   "execution_count": 9,
   "id": "da148be1-d7c2-4bae-b625-3ac5e358bba9",
   "metadata": {},
   "outputs": [
    {
     "name": "stdin",
     "output_type": "stream",
     "text": [
      "integer degerinde bir sayi giriniz:  2\n"
     ]
    },
    {
     "name": "stdout",
     "output_type": "stream",
     "text": [
      "2  x  1  =  2\n",
      "2  x  2  =  4\n",
      "2  x  3  =  6\n",
      "2  x  4  =  8\n",
      "2  x  5  =  10\n",
      "2  x  6  =  12\n",
      "2  x  7  =  14\n",
      "2  x  8  =  16\n",
      "2  x  9  =  18\n",
      "2  x  10  =  20\n"
     ]
    },
    {
     "name": "stdin",
     "output_type": "stream",
     "text": [
      "Lutfen bir sayi giriniz:  22222222\n"
     ]
    },
    {
     "name": "stdout",
     "output_type": "stream",
     "text": [
      "8\n",
      "15, 55, 75, 150, 180, 200, "
     ]
    }
   ],
   "source": [
    "#1\n",
    "num = int(input(\"integer degerinde bir sayi giriniz: \"))\n",
    "for i in range(1,11,1):\n",
    "    print(num, \" x \", i, \" = \", num*i)\n",
    "    \n",
    "#2\n",
    "num = int(input(\"Lutfen bir sayi giriniz: \"))\n",
    "count = 0\n",
    "while (num != 0):\n",
    "    count+=1\n",
    "    num = int(num / 10)\n",
    "print (count)\n",
    "\n",
    "#3\n",
    "numbers = [12, 15, 32, 42, 55, 75, 122, 132, 150, 180, 200]\n",
    "for i in numbers:\n",
    "    if (i%5==0):\n",
    "        print(i, end=\", \")\n"
   ]
  },
  {
   "cell_type": "code",
   "execution_count": null,
   "id": "fa47c5e4-7e7f-4760-be68-cd7112cb42cb",
   "metadata": {},
   "outputs": [],
   "source": []
  }
 ],
 "metadata": {
  "kernelspec": {
   "display_name": "Python 3 (ipykernel)",
   "language": "python",
   "name": "python3"
  },
  "language_info": {
   "codemirror_mode": {
    "name": "ipython",
    "version": 3
   },
   "file_extension": ".py",
   "mimetype": "text/x-python",
   "name": "python",
   "nbconvert_exporter": "python",
   "pygments_lexer": "ipython3",
   "version": "3.9.12"
  }
 },
 "nbformat": 4,
 "nbformat_minor": 5
}
